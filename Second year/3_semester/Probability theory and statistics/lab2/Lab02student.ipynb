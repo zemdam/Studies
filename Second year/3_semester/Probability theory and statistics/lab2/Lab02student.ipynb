{
 "cells": [
  {
   "cell_type": "markdown",
   "metadata": {},
   "source": [
    "# Discrete sampling\n",
    "In the last problem of the first session we sampled with given probabilities using prefix sums and binary search. The sampling code is the bottleneck of the whole process, its running times is 3 times higher than the code for uniform probabilities, and the difference would only increase for larger number of outcomes. In the next two problems we discuss two simple, but powerful techniques one can use to sample in time $O(1)$."
   ]
  },
  {
   "cell_type": "markdown",
   "metadata": {},
   "source": [
    "**Problem 2a.** Consider the problem of sampling with known probabilities $p_1,\\ldots,p_d$. Suppose that you have a black-box that samples with probabilities $q_1,\\ldots,q_d$ that are close to $p_1,\\ldots,p_d$, say\n",
    "$$ \\forall_{i=1,\\ldots,n} p_i \\le (1+\\varepsilon)q_i.$$\n",
    "\n",
    "* How can you use this black-box to sample with probabilities $p_1,\\ldots,p_d$? It is expected, that the running time of the algorithm would be non-deterministic.\n",
    "* Prove that your algorithm is correct.\n",
    "* Implement the algorithm and use it to give a faster implementation for **Problem 1c**."
   ]
  },
  {
   "cell_type": "markdown",
   "metadata": {},
   "source": [
    "**ROZWIĄZANIE 2a.**"
   ]
  },
  {
   "cell_type": "markdown",
   "metadata": {},
   "source": [
    "* Możemy losowo wybrać dzień $i$ czyli prawdopodobieństwo $q_i$ z czarnej skrzynki, następnie wybrać losowo zmienna $p$ i sprawdzić czy $p$ < $q_i$. Jeśli nie to losujemy ponownie."
   ]
  },
  {
   "cell_type": "markdown",
   "metadata": {},
   "source": [
    "* Gdybyśmy losowo wybierali tylko dzień $i$ to prawdopodobieństwo wylosowania konkretnego $q_i$ było by równe $1/d$ zamiast $q_i$. Losowanie drugiej zmiennej do momentu uzyskania $p < q_i$ gwarantuje nam poprawny rozkład bo $p$ ma rozkład jednostajny zatem warunek pętli pozwoli nam usunąć wszystkie nadmiarowe wylosowania $q_i$ które by powodowały prawdopodobieństwo $1/d$. "
   ]
  },
  {
   "cell_type": "code",
   "execution_count": 2,
   "metadata": {},
   "outputs": [
    {
     "data": {
      "image/png": "[encoded data removed]",
      "text/plain": [
       "<Figure size 640x480 with 1 Axes>"
      ]
     },
     "metadata": {},
     "output_type": "display_data"
    }
   ],
   "source": [
    "import matplotlib.pyplot as plt\n",
    "import pandas as pd\n",
    "import numpy as np\n",
    "import random as rnd\n",
    "\n",
    "data = pd.read_csv('us_births_69_88.csv')\n",
    "births = data['births'].to_numpy()\n",
    "sumOfBirths = sum(births)\n",
    "probs = births/np.sum(births)\n",
    "max_prob = np.max(probs)\n",
    "\n",
    "def getDate():\n",
    "    date = rnd.randrange(probs.size)\n",
    "    prob = rnd.uniform(0, max_prob)\n",
    "    while (prob >= probs[date]):\n",
    "        date = rnd.randrange(probs.size)\n",
    "        prob = rnd.uniform(0, max_prob)\n",
    "    return date\n",
    "\n",
    "def howManySteps():\n",
    "    s = set()\n",
    "    counter = 0\n",
    "    day = getDate()\n",
    "    while day not in s:\n",
    "        s.add(day)\n",
    "        counter += 1\n",
    "        day = getDate()\n",
    "    return counter\n",
    "\n",
    "tmp = [howManySteps() for x in range(1, 100000)]\n",
    "plt.hist(tmp, bins = range(100))\n",
    "plt.show()"
   ]
  },
  {
   "cell_type": "markdown",
   "metadata": {},
   "source": [
    "**Problem 2b.** One of the reasons this implementation is not significantly faster than the one in **Problem 1c** , apart from $d$ being rather small, is that we are using Python's interpreter a bit too much, and Python is slow. One way around this is usually to use a library function - **searchsorted** is much faster than an equivalent code implemented in pure Python. But even if the functionality you need is not implemented in a lower level language as\n",
    "a library function, there is still hope. You can try to implement it using optimized array algebra, for example using **numpy**. In this problem, your task is to rewrite the previous algorithm, so that the amount of *looping* is reduced to a minimum necessary. In particular, you should create a *vectorized* version of random dates generation (in bulk), while the actual search for duplicates remains a loop with a **set**. Here are some useful tips:\n",
    "   * You can perform arithmetic, comparisons, etc. on **numpy** arrays.\n",
    "   * You can generate whole **numpy** arrays of random numbers at once.\n",
    "   * You can even perform parallel look-up like in the example below."
   ]
  },
  {
   "cell_type": "code",
   "execution_count": 2,
   "metadata": {},
   "outputs": [
    {
     "name": "stdout",
     "output_type": "stream",
     "text": [
      "[0.00227517 0.0046855  0.00723969 0.00983386 0.01244635 0.01509545\n",
      " 0.01776656 0.02039381 0.02296892 0.02557464 0.02822772 0.03089535\n",
      " 0.03357958 0.03631269 0.03899896 0.04164629 0.04428773 0.04695907\n",
      " 0.04964413 0.05234963 0.05506802 0.05775948 0.06040779 0.06304841\n",
      " 0.06571445 0.06839065 0.07108451 0.07379243 0.07646091 0.07909644\n",
      " 0.08170589 0.08435118 0.08704278 0.08974504 0.09244673 0.09512997\n",
      " 0.09778471 0.10042332 0.10307263 0.10574751 0.10847192 0.11120481\n",
      " 0.11394218 0.11657497 0.1193345  0.12200527 0.12469062 0.12741039\n",
      " 0.13014621 0.13284267 0.13553895 0.13818995 0.14088636 0.14358614\n",
      " 0.14632652 0.14908281 0.15180138 0.15446501 0.15712952 0.15778809\n",
      " 0.15778948 0.15779057 0.16048168 0.16317754 0.1659422  0.16867835\n",
      " 0.17139183 0.17407142 0.17675134 0.17942886 0.18209154 0.18480716\n",
      " 0.18752298 0.19022559 0.19286578 0.19554375 0.19819392 0.20086318\n",
      " 0.2036033  0.20631219 0.20900668 0.21168313 0.21436329 0.21701185\n",
      " 0.21967744 0.22235883 0.2250678  0.22774793 0.23040424 0.23306838\n",
      " 0.23571571 0.23836213 0.2410425  0.24366644 0.24635849 0.24899895\n",
      " 0.25165451 0.25425746 0.2568922  0.25955362 0.26222762 0.26486635\n",
      " 0.26748283 0.27009891 0.27270412 0.27529155 0.27794744 0.28061626\n",
      " 0.28325873 0.28587165 0.28850109 0.2911017  0.29370718 0.29634962\n",
      " 0.29900925 0.30164449 0.30424422 0.30685593 0.30945983 0.31205434\n",
      " 0.31469686 0.3173148  0.3199338  0.31993562 0.32257514 0.32519505\n",
      " 0.32778858 0.33038595 0.33304592 0.33570115 0.33834503 0.34096894\n",
      " 0.34358439 0.34620797 0.34884802 0.35151465 0.35416007 0.35681073\n",
      " 0.35946572 0.36211102 0.36473661 0.36738896 0.37006848 0.37279633\n",
      " 0.37547815 0.37815299 0.38083214 0.38349314 0.38613871 0.38878191\n",
      " 0.39147074 0.39412183 0.3967913  0.39940239 0.40201115 0.40470753\n",
      " 0.4074341  0.41014853 0.41284095 0.41551202 0.41821997 0.42087639\n",
      " 0.42353333 0.42624833 0.42899006 0.43169901 0.43439244 0.4370434\n",
      " 0.43972445 0.44242027 0.4451773  0.44793732 0.45067048 0.4533768\n",
      " 0.45611847 0.45881469 0.46153613 0.46428874 0.46706801 0.46984353\n",
      " 0.47259809 0.4753517  0.47811137 0.48088163 0.48370861 0.48371038\n",
      " 0.48656027 0.48940986 0.49217319 0.49463341 0.49729992 0.50012855\n",
      " 0.50305304 0.50598114 0.50886135 0.51172221 0.51454954 0.51735103\n",
      " 0.52015009 0.52304766 0.5259646  0.52885466 0.53171848 0.53455607\n",
      " 0.53737639 0.54024647 0.54313346 0.54604787 0.54893766 0.55179554\n",
      " 0.5546496  0.55748628 0.56036357 0.56327676 0.56620039 0.56909525\n",
      " 0.57195836 0.57483437 0.57767663 0.58055108 0.58343841 0.58633712\n",
      " 0.58923749 0.59212183 0.5950464  0.59789959 0.60078432 0.60368089\n",
      " 0.60661911 0.60949983 0.61239216 0.61529001 0.61815456 0.62103449\n",
      " 0.6239559  0.62688037 0.62979786 0.63268193 0.63555275 0.63839417\n",
      " 0.64125157 0.64415009 0.64708257 0.64999075 0.6528848  0.6557574\n",
      " 0.65861063 0.66147566 0.66426105 0.66708826 0.66992791 0.67277293\n",
      " 0.67558459 0.67839648 0.68123132 0.68416264 0.68714954 0.69010868\n",
      " 0.69303233 0.69596102 0.69884037 0.70179371 0.70477604 0.70779669\n",
      " 0.7107939  0.7137713  0.71675712 0.71973543 0.72272715 0.72574437\n",
      " 0.72876363 0.73176224 0.73473586 0.73771552 0.74066085 0.74359386\n",
      " 0.74655546 0.74952044 0.74952329 0.75245567 0.75535189 0.75822755\n",
      " 0.76106791 0.76391956 0.76678428 0.76963537 0.77246705 0.7752735\n",
      " 0.77809729 0.78085207 0.78362901 0.78639032 0.78919031 0.79198202\n",
      " 0.79472209 0.79745671 0.80015319 0.80286738 0.80560993 0.80836942\n",
      " 0.81109916 0.81379783 0.81649836 0.81919071 0.82190785 0.82464389\n",
      " 0.82738263 0.83009269 0.83278543 0.8354315  0.83811558 0.84079817\n",
      " 0.84353445 0.84628641 0.84901491 0.85171527 0.85442965 0.85712676\n",
      " 0.85984168 0.8625862  0.86533583 0.86805466 0.87074047 0.87345426\n",
      " 0.87615068 0.8788601  0.88160809 0.88436907 0.88711818 0.8898531\n",
      " 0.89257749 0.89518899 0.89782816 0.90046533 0.90310402 0.90570721\n",
      " 0.90826745 0.91087264 0.91352661 0.91623094 0.91623399 0.91897863\n",
      " 0.92171975 0.92442012 0.92709792 0.92978478 0.93244233 0.93511196\n",
      " 0.93783805 0.94055847 0.94327406 0.94596309 0.94868207 0.95133601\n",
      " 0.95405545 0.95684793 0.95966725 0.9624772  0.96527852 0.9680949\n",
      " 0.97086254 0.9735956  0.97624117 0.97877593 0.98111751 0.98329918\n",
      " 0.98578676 0.98853914 0.99140165 0.99430725 0.99724248 1.        ]\n"
     ]
    }
   ],
   "source": [
    "import csv\n",
    "import matplotlib.pyplot as plt\n",
    "import pandas as pd\n",
    "import numpy as np\n",
    "import random as rnd\n",
    "\n",
    "def dates(array):\n",
    "    s = set()\n",
    "    counter = 0\n",
    "    rand = rnd.random()\n",
    "    day = np.searchsorted(array, birth)\n",
    "    while day not in s:\n",
    "        s.add(day)\n",
    "        counter += 1\n",
    "        rand = rnd.randrange(1,array[-1])\n",
    "        day = np.searchsorted(array, birth)\n",
    "    return counter\n",
    "\n",
    "data = pd.read_csv('us_births_69_88.csv')\n",
    "\n",
    "tmp = data['births'].values\n",
    "suma = sum(tmp)\n",
    "tmp2 = [el / suma for el in tmp]\n",
    "prefixTmp = np.cumsum(tmp2)\n",
    "print(prefixTmp)"
   ]
  },
  {
   "cell_type": "code",
   "execution_count": 20,
   "metadata": {},
   "outputs": [
    {
     "name": "stdout",
     "output_type": "stream",
     "text": [
      "[3 3 7 7]\n",
      "[2 1 4]\n"
     ]
    }
   ],
   "source": [
    "X = np.array([10,3,7])\n",
    "I = np.array([1,1,2,2])\n",
    "print(X[I])\n",
    "X = np.array([[1,2],[3,4]])\n",
    "I = np.array([0,0,1])\n",
    "J = np.array([1,0,1])\n",
    "print(X[I,J])"
   ]
  },
  {
   "cell_type": "markdown",
   "metadata": {},
   "source": [
    "**Problem 2c (Squaring the histogram).** In this problem, we again want to sample with known probabilities $p_1,\\ldots,p_n$, but this time we make no assumptions on $p_i$. Consider the following algorithm:\n",
    "   * Let $V$ be the mean of $p_i$, i.e. $V=\\frac{1}{n}$.\n",
    "   * Create $n$ buckets, each with volume $V$, put each $p_i$ into a separate bucket.\n",
    "   * Until there exists a bucket $A$ that is not full, find a bucket $B$ that overflows, and trasfer probability from $B$ to $A$ until $A$ is exactly full\n",
    "\n",
    "Show that:\n",
    "   * This algorithm always ends.\n",
    "   * When it ends, each bucket contains pieces of exactly two $p_i$'s.\n",
    "\n",
    "How to use the result of this algorithm to sample with probabilities $p_i$. Argue that your algorithm is correct and implement it. The sampling part should be *vectorized*. Use this algorithm to sample birthdates again, and test its efficiency."
   ]
  },
  {
   "cell_type": "markdown",
   "metadata": {},
   "source": [
    "\n",
    "**Problem 2d.** Show that the frequency histogram for empirical birthday frequencies can actually be computed exactly, and implement your idea. To this end, design a recurence relation using conditional probabilities and use dynamic programming."
   ]
  },
  {
   "cell_type": "markdown",
   "metadata": {},
   "source": [
    "**BONUS**. An alternative plotting library: plotly"
   ]
  },
  {
   "cell_type": "code",
   "execution_count": null,
   "metadata": {},
   "outputs": [],
   "source": [
    "#install plotly with: pip install plotly\n",
    "#you can run this shell command directly from Jupyter, by prefixing it with !\n",
    "!pip install plotly\n",
    "\n",
    "from plotly.offline import download_plotlyjs, init_notebook_mode, plot, iplot\n",
    "import plotly.graph_objs as go\n",
    "import numpy as np\n",
    "\n",
    "init_notebook_mode(connected=True)\n",
    "\n",
    "# example scatterplot\n",
    "\n",
    "x = np.linspace(0, 1, 10)\n",
    "y = x * x\n",
    "\n",
    "iplot([go.Scatter(x=x, y=y, name=\"y=x^2\"), go.Scatter(x=x, y=-y, name=\"y=-x^2\")])\n",
    "\n",
    "# example heatmap\n",
    "\n",
    "iplot([go.Heatmap(z=[[10, 20, 30, 40],\n",
    "                      [20, 30, 40, 50],\n",
    "                      [30, 40, 50, 60]])])\n"
   ]
  }
 ],
 "metadata": {
  "kernelspec": {
   "display_name": "Python 3.11.0 64-bit",
   "language": "python",
   "name": "python3"
  },
  "language_info": {
   "codemirror_mode": {
    "name": "ipython",
    "version": 3
   },
   "file_extension": ".py",
   "mimetype": "text/x-python",
   "name": "python",
   "nbconvert_exporter": "python",
   "pygments_lexer": "ipython3",
   "version": "3.11.0"
  },
  "vscode": {
   "interpreter": {
    "hash": "c261aea317cc0286b3b3261fbba9abdec21eaa57589985bb7a274bf54d6cc0a7"
   }
  }
 },
 "nbformat": 4,
 "nbformat_minor": 1
}
