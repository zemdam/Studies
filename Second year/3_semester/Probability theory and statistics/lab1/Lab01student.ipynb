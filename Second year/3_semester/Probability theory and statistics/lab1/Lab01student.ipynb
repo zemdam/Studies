{
 "cells": [
  {
   "cell_type": "markdown",
   "metadata": {},
   "source": [
    "# Birthday paradox"
   ]
  },
  {
   "cell_type": "markdown",
   "metadata": {},
   "source": [
    "**Problem 1a.** During exercise session, we showed that for $d$ equally likely dates in a year and $n$ people, the probability of a repeat date is $p(n)=1-\\frac{d^\\underline{n}}{d^n}$. We also derived a simple approximate formula for this probability: $p_a(n) = 1-e^{-\\frac{n(n-1)}{2d}}$. In particular, this approximation implies that for $d=365$ dates, $p(n)$ is close to $\\frac{1}{2}$ for $n=23$.\n",
    "\n",
    "Verify how good the approximation is. To this end, write a program that computes the exact value of $p(n)$ as well as the value of the approximation $p_a(n)$ for $d=365$ and $n=1,\\ldots,60$. Plot the graphs of the two functions."
   ]
  },
  {
   "cell_type": "code",
   "execution_count": 36,
   "metadata": {},
   "outputs": [
    {
     "data": {
      "text/plain": [
       "[<matplotlib.lines.Line2D at 0x7f8abc2ea9a0>]"
      ]
     },
     "execution_count": 36,
     "metadata": {},
     "output_type": "execute_result"
    },
    {
     "data": {
      "image/png": "[encoded data removed]",
      "text/plain": [
       "<Figure size 432x288 with 1 Axes>"
      ]
     },
     "metadata": {
      "needs_background": "light"
     },
     "output_type": "display_data"
    }
   ],
   "source": [
    "import numpy as np\n",
    "import matplotlib.pyplot as plt\n",
    "\n",
    "d = 365\n",
    "def p(n):\n",
    "    global d\n",
    "    tmp = [(d - x)/d for x in range(0, n + 1)]\n",
    "    return 1 - np.prod(tmp)\n",
    "\n",
    "def pa(n):\n",
    "    global d\n",
    "    tmp = n*(n-1)/(2*d)\n",
    "    return 1 - np.exp(-tmp)\n",
    "\n",
    "x = [p(i) for i in range(1, 60)]\n",
    "y = [pa(i) for i in range(1, 60)]\n",
    "z = [i for i in range(1,60)]\n",
    "\n",
    "plt.plot(z, x)\n",
    "plt.plot(z, y)"
   ]
  },
  {
   "cell_type": "markdown",
   "metadata": {},
   "source": [
    "**Problem 1b.**\n",
    "Implement a function, that chooses random dates out of $1,\\ldots,d$ until a repeat occurs. The function should return the number of the step in which that happened. Run the function $N=100\\,000$ times. \n",
    "    * Plot a histogram of the return values.\n",
    "    * Which return value seems most likely? \n",
    "    * What is the average of the return values?\n",
    "    * Is there any simple relation between these two numbers and the value $23$ in the previous problem?\n",
    "    * Is there any simple relation between the histogram obtained, and the plot in the previous problem?"
   ]
  },
  {
   "cell_type": "code",
   "execution_count": 1,
   "metadata": {},
   "outputs": [
    {
     "name": "stdout",
     "output_type": "stream",
     "text": [
      "23.539105391053912\n",
      "17\n"
     ]
    },
    {
     "data": {
      "image/png": "[encoded data removed]",
      "text/plain": [
       "<Figure size 432x288 with 1 Axes>"
      ]
     },
     "metadata": {
      "needs_background": "light"
     },
     "output_type": "display_data"
    }
   ],
   "source": [
    "import random as rnd\n",
    "import numpy as np\n",
    "import matplotlib.pyplot as plt\n",
    "\n",
    "d = 365\n",
    "def r():\n",
    "    global d\n",
    "    tab = [0]*d\n",
    "    counter = 0\n",
    "    index = rnd.randrange(1,d)\n",
    "    while tab[index] == 0:\n",
    "        tab[index] = 1\n",
    "        counter += 1\n",
    "        index = rnd.randrange(1,d)\n",
    "    return counter\n",
    "\n",
    "tmp = [r() for x in range(1, 100000)]\n",
    "plt.hist(tmp, bins = range(100))\n",
    "print(np.average(tmp))\n",
    "counts = np.bincount(tmp)\n",
    "print(np.argmax(counts))"
   ]
  },
  {
   "cell_type": "markdown",
   "metadata": {},
   "source": [
    "**Problem 1c.** Here we investigate how our analysis using the classical approach compares to a more empirical one. The file *us_births_69_88.csv* contains the counts for birthdates from 1969 to 1988. Only those births, for which the full date is known, are included in the file.\n",
    "    * Read the file.\n",
    "    * Investigate the data. Do you notice anything strange?\n",
    "    * Plot a heatmap of the data. Do you notice any significant deviations from the uniform assumption? Can you explain them?\n",
    "    * Implement a sampling function as in 1b, but this time using the supplied data. Compare the results."
   ]
  },
  {
   "cell_type": "code",
   "execution_count": 36,
   "metadata": {},
   "outputs": [
    {
     "data": {
      "text/plain": [
       "<matplotlib.image.AxesImage at 0x7f1dbc0f1eb0>"
      ]
     },
     "execution_count": 36,
     "metadata": {},
     "output_type": "execute_result"
    },
    {
     "data": {
      "image/png": "[encoded data removed]",
      "text/plain": [
       "<Figure size 432x288 with 1 Axes>"
      ]
     },
     "metadata": {
      "needs_background": "light"
     },
     "output_type": "display_data"
    }
   ],
   "source": [
    "import csv\n",
    "import matplotlib.pyplot as plt\n",
    "import pandas as pd\n",
    "import numpy as np\n",
    "\n",
    "data = pd.read_csv('us_births_69_88.csv')\n",
    "\n",
    "tmp = data['births'].values\n",
    "tmp2 = np.reshape(tmp, (12,31))\n",
    "\n",
    "plt.imshow(tmp2,cmap='hot',interpolation='nearest', aspect=31/12)"
   ]
  },
  {
   "cell_type": "code",
   "execution_count": null,
   "metadata": {},
   "outputs": [],
   "source": [
    "cumsum\n",
    "searchsorted"
   ]
  }
 ],
 "metadata": {
  "kernelspec": {
   "display_name": "Python 3",
   "language": "python",
   "name": "python3"
  },
  "language_info": {
   "codemirror_mode": {
    "name": "ipython",
    "version": 3
   },
   "file_extension": ".py",
   "mimetype": "text/x-python",
   "name": "python",
   "nbconvert_exporter": "python",
   "pygments_lexer": "ipython3",
   "version": "3.9.2"
  }
 },
 "nbformat": 4,
 "nbformat_minor": 1
}
